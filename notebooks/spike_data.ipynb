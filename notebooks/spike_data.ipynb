{
 "cells": [
  {
   "cell_type": "code",
   "execution_count": 1,
   "metadata": {},
   "outputs": [],
   "source": [
    "%load_ext autoreload\n",
    "%autoreload 2\n",
    "\n",
    "import spikeextractors as se\n",
    "import spikewidgets as sw\n",
    "\n",
    "import numpy as np\n",
    "from mpl_toolkits import mplot3d\n",
    "%matplotlib inline\n",
    "import matplotlib.pyplot as plt\n",
    "# allow to reload module\n",
    "import importlib\n",
    "\n",
    "import basilic"
   ]
  },
  {
   "cell_type": "code",
   "execution_count": null,
   "metadata": {},
   "outputs": [
    {
     "name": "stdout",
     "output_type": "stream",
     "text": [
      "Warning: MEArec file created with version <1.5. This could result in lower efficiency. To upgradeyour file to the new format use: mr.convert_recording_to_new_version(filename)\n",
      "Warning: MEArec file created with version <1.5. This could result in lower efficiency. To upgradeyour file to the new format use: mr.convert_recording_to_new_version(filename)\n",
      "0 %\r"
     ]
    }
   ],
   "source": [
    "geom, recording, spike_frame_channel_array = basilic.utils.get_recodring_data(\"recordings_300_SqMEA-10-15um_minamp0_60s_10uV_far-neurons_bpf_25-03-2019.h5\")\n",
    "\n",
    "#geom, recording, spike_frame_channel_array = basilic.simulated_data.create_simulated_recording(3)"
   ]
  },
  {
   "cell_type": "code",
   "execution_count": null,
   "metadata": {},
   "outputs": [],
   "source": [
    "plt.plot()\n",
    "for id in range(10, 20):\n",
    "    channel = spike_frame_channel_array[id][1]\n",
    "    spike_time = spike_frame_channel_array[id][0]\n",
    "    waveform = recording.get_traces(channel)[0][int(spike_time-30):int(spike_time+30)]\n",
    "    plt.plot(waveform)"
   ]
  },
  {
   "cell_type": "code",
   "execution_count": null,
   "metadata": {
    "scrolled": false
   },
   "outputs": [],
   "source": [
    "fig = plt.figure(figsize=(10,10))\n",
    "ax = fig.add_subplot(111, projection='3d')\n",
    "ax.scatter3D(geom[:,0], geom[:,1], c='blue', s=100);\n",
    "\n",
    "w_ts_geom = sw.plot_timeseries(recording, trange=[0, 1])"
   ]
  },
  {
   "cell_type": "code",
   "execution_count": null,
   "metadata": {},
   "outputs": [],
   "source": [
    "# create strucute containing added padded channels around geom\n",
    "padded_channels, observed_channels = basilic.utils.make_padded_channels(geom, num_pads = 2)"
   ]
  },
  {
   "cell_type": "code",
   "execution_count": null,
   "metadata": {},
   "outputs": [],
   "source": [
    "fig = plt.figure(figsize=(10,10))\n",
    "ax = fig.add_subplot(111, projection='3d')\n",
    "ax.scatter(padded_channels[:,0], padded_channels[:,1], c=observed_channels, s=10, alpha=1);"
   ]
  },
  {
   "cell_type": "code",
   "execution_count": null,
   "metadata": {},
   "outputs": [],
   "source": [
    "neighbouring_channels = basilic.utils.get_neighbours_channels(padded_channels, observed_channels, spike_channel_radius = 40)"
   ]
  },
  {
   "cell_type": "code",
   "execution_count": null,
   "metadata": {},
   "outputs": [],
   "source": [
    "fig = plt.figure(figsize=(100,100))\n",
    "ax = fig.add_subplot(111, projection='3d')\n",
    "ax.scatter(padded_channels[:,0], padded_channels[:,1], s=100, alpha=1);\n",
    "\n",
    "recorded_channels_ids = [key for key in neighbouring_channels.keys()]\n",
    "\n",
    "display_rec_channel = recorded_channels_ids[7]\n",
    "for channel in neighbouring_channels[display_rec_channel]:\n",
    "    ax.scatter(padded_channels[channel][0], padded_channels[channel][1], c=('g' if channel==display_rec_channel else 'r'), s=1000)"
   ]
  },
  {
   "cell_type": "code",
   "execution_count": null,
   "metadata": {
    "scrolled": true
   },
   "outputs": [],
   "source": [
    "waveforms_list, channel_ids_list = basilic.utils.extract_waveforms(recording, spike_frame_channel_array, padded_channels, observed_channels, neighbouring_channels)"
   ]
  },
  {
   "cell_type": "code",
   "execution_count": null,
   "metadata": {},
   "outputs": [],
   "source": [
    "fig = plt.figure(figsize=(10,10))\n",
    "\n",
    "for waveform in waveforms_list[0]:\n",
    "       plt.plot(waveform)"
   ]
  },
  {
   "cell_type": "code",
   "execution_count": null,
   "metadata": {},
   "outputs": [],
   "source": [
    "fig = plt.figure(figsize=(10,10))\n",
    "\n",
    "for waveforms in waveforms_list:\n",
    "    for waveform in waveforms:\n",
    "        plt.plot(waveform)"
   ]
  },
  {
   "cell_type": "code",
   "execution_count": null,
   "metadata": {},
   "outputs": [],
   "source": []
  }
 ],
 "metadata": {
  "kernelspec": {
   "display_name": "Python 3",
   "language": "python",
   "name": "python3"
  },
  "language_info": {
   "codemirror_mode": {
    "name": "ipython",
    "version": 3
   },
   "file_extension": ".py",
   "mimetype": "text/x-python",
   "name": "python",
   "nbconvert_exporter": "python",
   "pygments_lexer": "ipython3",
   "version": "3.8.0"
  }
 },
 "nbformat": 4,
 "nbformat_minor": 4
}
